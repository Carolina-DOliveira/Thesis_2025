{
 "cells": [
  {
   "cell_type": "markdown",
   "id": "311fbcb4",
   "metadata": {},
   "source": [
    "#### **Read required datasets**\n",
    "`893_records.xlsx` contains all extracted experimental records alongside their features\n",
    "`Descriptors_polymer_solvent.xlsx` contains solvent and polymers' descriptors counts\n"
   ]
  },
  {
   "cell_type": "code",
   "execution_count": 1,
   "id": "07f84d07",
   "metadata": {},
   "outputs": [],
   "source": [
    "import pandas as pd\n",
    "\n",
    "df_records = pd.read_excel(\"dataset/893_records.xlsx\")\n",
    "df_Descriptors_solvent = pd.read_excel(\"dataset/Descriptors_polymer_solvent.xlsx\", sheet_name = \"Solvents\")\n",
    "df_Descriptors_polymer = pd.read_excel(\"dataset/Descriptors_polymer_solvent.xlsx\", sheet_name = \"Polymer\")"
   ]
  },
  {
   "cell_type": "markdown",
   "id": "b2a22e61",
   "metadata": {},
   "source": [
    "#### **Merge experimental records with corresponding descriptors**"
   ]
  },
  {
   "cell_type": "code",
   "execution_count": 2,
   "id": "be622539",
   "metadata": {},
   "outputs": [],
   "source": [
    "df_withPolymerDescriptors= df_records.merge(\n",
    "    df_Descriptors_polymer,\n",
    "    left_on=\"Polymer\",  \n",
    "    right_on=\"Name\",     \n",
    "    how=\"left\"          \n",
    ").drop(columns=[\"Name\"])\n",
    "\n",
    "df_with_Descriptors = df_withPolymerDescriptors.merge(\n",
    "    df_Descriptors_solvent,\n",
    "    left_on=\"Solvent\",\n",
    "    right_on=\"Name\",\n",
    "    how=\"left\"\n",
    ").drop(columns=[\"Name\"])"
   ]
  },
  {
   "cell_type": "markdown",
   "id": "ae278d7f",
   "metadata": {},
   "source": [
    "#### **Reorder Columns**"
   ]
  },
  {
   "cell_type": "code",
   "execution_count": 3,
   "id": "60a0d546",
   "metadata": {},
   "outputs": [],
   "source": [
    "polymer_cols = [\"Polymer\"] + [col for col in df_with_Descriptors.columns if col.startswith(\"Polymer_\")]\n",
    "solvent_cols = [\"Solvent\"] + [col for col in df_with_Descriptors.columns if col.startswith(\"Solvent_\")]\n",
    "experimental_cols = [\n",
    "    \"Sample type\",\n",
    "    \"Temperature (K)\",\n",
    "    \"Time (min)\",\n",
    "    \"Solvent melting (K)\",\n",
    "    \"Solvent boiling (K)\",\n",
    "    \"Concentration polymer (g/100mL)\",\n",
    "    \"Smiles solvent\",\n",
    "    \"Dissolution\"\n",
    "]\n",
    "\n",
    "new_order = polymer_cols + solvent_cols + experimental_cols\n",
    "\n",
    "df_with_Descriptors = df_with_Descriptors[new_order]\n",
    "\n",
    "df_with_Descriptors = df_with_Descriptors.astype({\n",
    "    \"Polymer_ID\": \"Int64\",\n",
    "    \"Solvent_id\": \"Int64\"\n",
    "})"
   ]
  },
  {
   "cell_type": "markdown",
   "id": "0e85f001",
   "metadata": {},
   "source": [
    "#### **Remove unwanted columns and save final dataset**"
   ]
  },
  {
   "cell_type": "code",
   "execution_count": 4,
   "id": "56c72c57",
   "metadata": {},
   "outputs": [],
   "source": [
    "df_with_Descriptors = df_with_Descriptors.drop(['Solvent boiling (K)', 'Concentration polymer (g/100mL)', 'Smiles solvent', 'Polymer', 'Solvent'], axis=1)\n",
    "df_with_Descriptors.to_excel(\"893_records_with_descriptors.xlsx\", index = False)"
   ]
  }
 ],
 "metadata": {
  "kernelspec": {
   "display_name": "Python 3",
   "language": "python",
   "name": "python3"
  },
  "language_info": {
   "codemirror_mode": {
    "name": "ipython",
    "version": 3
   },
   "file_extension": ".py",
   "mimetype": "text/x-python",
   "name": "python",
   "nbconvert_exporter": "python",
   "pygments_lexer": "ipython3",
   "version": "3.12.3"
  }
 },
 "nbformat": 4,
 "nbformat_minor": 5
}
