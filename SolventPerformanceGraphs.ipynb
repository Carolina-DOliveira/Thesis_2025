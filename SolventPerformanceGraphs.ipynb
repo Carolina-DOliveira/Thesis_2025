{
 "cells": [
  {
   "cell_type": "code",
   "execution_count": 1,
   "id": "e538b8c5",
   "metadata": {},
   "outputs": [],
   "source": [
    "from pandas import read_csv, DataFrame\n",
    "import numpy as np\n",
    "import pandas as pd\n",
    "import numpy as np\n",
    "from sklearn.model_selection import train_test_split, GridSearchCV\n",
    "from sklearn.tree import DecisionTreeClassifier\n",
    "from sklearn.metrics import accuracy_score, recall_score\n",
    "from sklearn.ensemble import GradientBoostingClassifier\n",
    "from sklearn.svm import SVC\n",
    "from sklearn.neural_network import MLPClassifier\n",
    "import matplotlib.pyplot as plt\n",
    "import matplotlib.ticker as ticker\n",
    "from sklearn.preprocessing import MinMaxScaler"
   ]
  },
  {
   "cell_type": "markdown",
   "id": "e7b5b380",
   "metadata": {},
   "source": [
    "#### **Create Grid records**"
   ]
  },
  {
   "cell_type": "code",
   "execution_count": 2,
   "id": "06c2bfc6",
   "metadata": {},
   "outputs": [
    {
     "name": "stdout",
     "output_type": "stream",
     "text": [
      "Dataset Temperature: 293.15\n",
      "Solvent Melting: 255.15\n",
      "Excel file created: dataset_gridsearch_PET_Cyrene.xlsx\n"
     ]
    }
   ],
   "source": [
    "import numpy as np\n",
    "import pandas as pd\n",
    "\n",
    "dataset = pd.read_excel(\"./895_RecordsDescriptorsBoiling.xlsx\")\n",
    "\n",
    "polymer_name = 'PET'\n",
    "solvent_name = 'Cyrene'\n",
    "sample_type = \"fiber\"\n",
    "\n",
    "# Filter dataset for polymer/solvent of interest\n",
    "df_onlySolventPolymer= dataset[(dataset[\"Polymer\"] == polymer_name) & (dataset[\"Solvent\"] == solvent_name) & (dataset[\"Sample type\"] == sample_type)].copy()\n",
    "\n",
    "# Step 1: Save original records with actual Dissolution\n",
    "df_original_records = df_onlySolventPolymer.copy()\n",
    "df_original_records[\"Source\"] = \"Original\"\n",
    "\n",
    "# Get solvent melting & boiling from dataset\n",
    "solvent_boiling = df_onlySolventPolymer[\"Solvent boilling (K)\"].iloc[0]\n",
    "solvent_melting = df_onlySolventPolymer[\"Solvent melting (K)\"].iloc[0]\n",
    "\n",
    "time_vals = np.arange(1, 8 * 60 + 1, 5) # 0–480 minutes\n",
    "temp_lower = max(dataset[\"Temperature (K)\"].min(), solvent_melting)\n",
    "print(\"Dataset Temperature:\", dataset[\"Temperature (K)\"].min())\n",
    "print(\"Solvent Melting:\", solvent_melting)\n",
    "\n",
    "temp_vals = np.arange(temp_lower, solvent_boiling + 1, 5) \n",
    "\n",
    "# Step 3: Create grid records\n",
    "template = df_onlySolventPolymer.iloc[0].copy()\n",
    "grid_records = []\n",
    "\n",
    "for t in time_vals:\n",
    "    for temp in temp_vals:\n",
    "        row = template.copy()\n",
    "        row[\"Time (min)\"] = t\n",
    "        row[\"Temperature (K)\"] = temp\n",
    "        grid_records.append(row)\n",
    "\n",
    "df_grid = pd.DataFrame(grid_records)\n",
    "df_grid[\"Source\"] = \"GridSearch\"\n",
    "\n",
    "# Step 5: Combine original + grid\n",
    "df_out = pd.concat([df_original_records, df_grid], ignore_index=True)\n",
    "\n",
    "# Step 6: Save to Excel\n",
    "output_file = f\"dataset_gridsearch_{polymer_name}_{solvent_name}.xlsx\"\n",
    "df_out.to_excel(output_file, index=False)\n",
    "\n",
    "print(\"Excel file created:\", output_file)"
   ]
  },
  {
   "cell_type": "markdown",
   "id": "1daaaad3",
   "metadata": {},
   "source": [
    "#### **Obtain Trained Model**"
   ]
  },
  {
   "cell_type": "code",
   "execution_count": 3,
   "id": "042312ca",
   "metadata": {},
   "outputs": [
    {
     "name": "stderr",
     "output_type": "stream",
     "text": [
      "/tmp/ipykernel_256350/3253171957.py:11: FutureWarning: Downcasting behavior in `replace` is deprecated and will be removed in a future version. To retain the old behavior, explicitly call `result.infer_objects(copy=False)`. To opt-in to the future behavior, set `pd.set_option('future.no_silent_downcasting', True)`\n",
      "  df: DataFrame = dataset.replace(encoding, inplace=False)\n"
     ]
    },
    {
     "data": {
      "text/html": [
       "<style>#sk-container-id-1 {\n",
       "  /* Definition of color scheme common for light and dark mode */\n",
       "  --sklearn-color-text: black;\n",
       "  --sklearn-color-line: gray;\n",
       "  /* Definition of color scheme for unfitted estimators */\n",
       "  --sklearn-color-unfitted-level-0: #fff5e6;\n",
       "  --sklearn-color-unfitted-level-1: #f6e4d2;\n",
       "  --sklearn-color-unfitted-level-2: #ffe0b3;\n",
       "  --sklearn-color-unfitted-level-3: chocolate;\n",
       "  /* Definition of color scheme for fitted estimators */\n",
       "  --sklearn-color-fitted-level-0: #f0f8ff;\n",
       "  --sklearn-color-fitted-level-1: #d4ebff;\n",
       "  --sklearn-color-fitted-level-2: #b3dbfd;\n",
       "  --sklearn-color-fitted-level-3: cornflowerblue;\n",
       "\n",
       "  /* Specific color for light theme */\n",
       "  --sklearn-color-text-on-default-background: var(--sg-text-color, var(--theme-code-foreground, var(--jp-content-font-color1, black)));\n",
       "  --sklearn-color-background: var(--sg-background-color, var(--theme-background, var(--jp-layout-color0, white)));\n",
       "  --sklearn-color-border-box: var(--sg-text-color, var(--theme-code-foreground, var(--jp-content-font-color1, black)));\n",
       "  --sklearn-color-icon: #696969;\n",
       "\n",
       "  @media (prefers-color-scheme: dark) {\n",
       "    /* Redefinition of color scheme for dark theme */\n",
       "    --sklearn-color-text-on-default-background: var(--sg-text-color, var(--theme-code-foreground, var(--jp-content-font-color1, white)));\n",
       "    --sklearn-color-background: var(--sg-background-color, var(--theme-background, var(--jp-layout-color0, #111)));\n",
       "    --sklearn-color-border-box: var(--sg-text-color, var(--theme-code-foreground, var(--jp-content-font-color1, white)));\n",
       "    --sklearn-color-icon: #878787;\n",
       "  }\n",
       "}\n",
       "\n",
       "#sk-container-id-1 {\n",
       "  color: var(--sklearn-color-text);\n",
       "}\n",
       "\n",
       "#sk-container-id-1 pre {\n",
       "  padding: 0;\n",
       "}\n",
       "\n",
       "#sk-container-id-1 input.sk-hidden--visually {\n",
       "  border: 0;\n",
       "  clip: rect(1px 1px 1px 1px);\n",
       "  clip: rect(1px, 1px, 1px, 1px);\n",
       "  height: 1px;\n",
       "  margin: -1px;\n",
       "  overflow: hidden;\n",
       "  padding: 0;\n",
       "  position: absolute;\n",
       "  width: 1px;\n",
       "}\n",
       "\n",
       "#sk-container-id-1 div.sk-dashed-wrapped {\n",
       "  border: 1px dashed var(--sklearn-color-line);\n",
       "  margin: 0 0.4em 0.5em 0.4em;\n",
       "  box-sizing: border-box;\n",
       "  padding-bottom: 0.4em;\n",
       "  background-color: var(--sklearn-color-background);\n",
       "}\n",
       "\n",
       "#sk-container-id-1 div.sk-container {\n",
       "  /* jupyter's `normalize.less` sets `[hidden] { display: none; }`\n",
       "     but bootstrap.min.css set `[hidden] { display: none !important; }`\n",
       "     so we also need the `!important` here to be able to override the\n",
       "     default hidden behavior on the sphinx rendered scikit-learn.org.\n",
       "     See: https://github.com/scikit-learn/scikit-learn/issues/21755 */\n",
       "  display: inline-block !important;\n",
       "  position: relative;\n",
       "}\n",
       "\n",
       "#sk-container-id-1 div.sk-text-repr-fallback {\n",
       "  display: none;\n",
       "}\n",
       "\n",
       "div.sk-parallel-item,\n",
       "div.sk-serial,\n",
       "div.sk-item {\n",
       "  /* draw centered vertical line to link estimators */\n",
       "  background-image: linear-gradient(var(--sklearn-color-text-on-default-background), var(--sklearn-color-text-on-default-background));\n",
       "  background-size: 2px 100%;\n",
       "  background-repeat: no-repeat;\n",
       "  background-position: center center;\n",
       "}\n",
       "\n",
       "/* Parallel-specific style estimator block */\n",
       "\n",
       "#sk-container-id-1 div.sk-parallel-item::after {\n",
       "  content: \"\";\n",
       "  width: 100%;\n",
       "  border-bottom: 2px solid var(--sklearn-color-text-on-default-background);\n",
       "  flex-grow: 1;\n",
       "}\n",
       "\n",
       "#sk-container-id-1 div.sk-parallel {\n",
       "  display: flex;\n",
       "  align-items: stretch;\n",
       "  justify-content: center;\n",
       "  background-color: var(--sklearn-color-background);\n",
       "  position: relative;\n",
       "}\n",
       "\n",
       "#sk-container-id-1 div.sk-parallel-item {\n",
       "  display: flex;\n",
       "  flex-direction: column;\n",
       "}\n",
       "\n",
       "#sk-container-id-1 div.sk-parallel-item:first-child::after {\n",
       "  align-self: flex-end;\n",
       "  width: 50%;\n",
       "}\n",
       "\n",
       "#sk-container-id-1 div.sk-parallel-item:last-child::after {\n",
       "  align-self: flex-start;\n",
       "  width: 50%;\n",
       "}\n",
       "\n",
       "#sk-container-id-1 div.sk-parallel-item:only-child::after {\n",
       "  width: 0;\n",
       "}\n",
       "\n",
       "/* Serial-specific style estimator block */\n",
       "\n",
       "#sk-container-id-1 div.sk-serial {\n",
       "  display: flex;\n",
       "  flex-direction: column;\n",
       "  align-items: center;\n",
       "  background-color: var(--sklearn-color-background);\n",
       "  padding-right: 1em;\n",
       "  padding-left: 1em;\n",
       "}\n",
       "\n",
       "\n",
       "/* Toggleable style: style used for estimator/Pipeline/ColumnTransformer box that is\n",
       "clickable and can be expanded/collapsed.\n",
       "- Pipeline and ColumnTransformer use this feature and define the default style\n",
       "- Estimators will overwrite some part of the style using the `sk-estimator` class\n",
       "*/\n",
       "\n",
       "/* Pipeline and ColumnTransformer style (default) */\n",
       "\n",
       "#sk-container-id-1 div.sk-toggleable {\n",
       "  /* Default theme specific background. It is overwritten whether we have a\n",
       "  specific estimator or a Pipeline/ColumnTransformer */\n",
       "  background-color: var(--sklearn-color-background);\n",
       "}\n",
       "\n",
       "/* Toggleable label */\n",
       "#sk-container-id-1 label.sk-toggleable__label {\n",
       "  cursor: pointer;\n",
       "  display: block;\n",
       "  width: 100%;\n",
       "  margin-bottom: 0;\n",
       "  padding: 0.5em;\n",
       "  box-sizing: border-box;\n",
       "  text-align: center;\n",
       "}\n",
       "\n",
       "#sk-container-id-1 label.sk-toggleable__label-arrow:before {\n",
       "  /* Arrow on the left of the label */\n",
       "  content: \"▸\";\n",
       "  float: left;\n",
       "  margin-right: 0.25em;\n",
       "  color: var(--sklearn-color-icon);\n",
       "}\n",
       "\n",
       "#sk-container-id-1 label.sk-toggleable__label-arrow:hover:before {\n",
       "  color: var(--sklearn-color-text);\n",
       "}\n",
       "\n",
       "/* Toggleable content - dropdown */\n",
       "\n",
       "#sk-container-id-1 div.sk-toggleable__content {\n",
       "  max-height: 0;\n",
       "  max-width: 0;\n",
       "  overflow: hidden;\n",
       "  text-align: left;\n",
       "  /* unfitted */\n",
       "  background-color: var(--sklearn-color-unfitted-level-0);\n",
       "}\n",
       "\n",
       "#sk-container-id-1 div.sk-toggleable__content.fitted {\n",
       "  /* fitted */\n",
       "  background-color: var(--sklearn-color-fitted-level-0);\n",
       "}\n",
       "\n",
       "#sk-container-id-1 div.sk-toggleable__content pre {\n",
       "  margin: 0.2em;\n",
       "  border-radius: 0.25em;\n",
       "  color: var(--sklearn-color-text);\n",
       "  /* unfitted */\n",
       "  background-color: var(--sklearn-color-unfitted-level-0);\n",
       "}\n",
       "\n",
       "#sk-container-id-1 div.sk-toggleable__content.fitted pre {\n",
       "  /* unfitted */\n",
       "  background-color: var(--sklearn-color-fitted-level-0);\n",
       "}\n",
       "\n",
       "#sk-container-id-1 input.sk-toggleable__control:checked~div.sk-toggleable__content {\n",
       "  /* Expand drop-down */\n",
       "  max-height: 200px;\n",
       "  max-width: 100%;\n",
       "  overflow: auto;\n",
       "}\n",
       "\n",
       "#sk-container-id-1 input.sk-toggleable__control:checked~label.sk-toggleable__label-arrow:before {\n",
       "  content: \"▾\";\n",
       "}\n",
       "\n",
       "/* Pipeline/ColumnTransformer-specific style */\n",
       "\n",
       "#sk-container-id-1 div.sk-label input.sk-toggleable__control:checked~label.sk-toggleable__label {\n",
       "  color: var(--sklearn-color-text);\n",
       "  background-color: var(--sklearn-color-unfitted-level-2);\n",
       "}\n",
       "\n",
       "#sk-container-id-1 div.sk-label.fitted input.sk-toggleable__control:checked~label.sk-toggleable__label {\n",
       "  background-color: var(--sklearn-color-fitted-level-2);\n",
       "}\n",
       "\n",
       "/* Estimator-specific style */\n",
       "\n",
       "/* Colorize estimator box */\n",
       "#sk-container-id-1 div.sk-estimator input.sk-toggleable__control:checked~label.sk-toggleable__label {\n",
       "  /* unfitted */\n",
       "  background-color: var(--sklearn-color-unfitted-level-2);\n",
       "}\n",
       "\n",
       "#sk-container-id-1 div.sk-estimator.fitted input.sk-toggleable__control:checked~label.sk-toggleable__label {\n",
       "  /* fitted */\n",
       "  background-color: var(--sklearn-color-fitted-level-2);\n",
       "}\n",
       "\n",
       "#sk-container-id-1 div.sk-label label.sk-toggleable__label,\n",
       "#sk-container-id-1 div.sk-label label {\n",
       "  /* The background is the default theme color */\n",
       "  color: var(--sklearn-color-text-on-default-background);\n",
       "}\n",
       "\n",
       "/* On hover, darken the color of the background */\n",
       "#sk-container-id-1 div.sk-label:hover label.sk-toggleable__label {\n",
       "  color: var(--sklearn-color-text);\n",
       "  background-color: var(--sklearn-color-unfitted-level-2);\n",
       "}\n",
       "\n",
       "/* Label box, darken color on hover, fitted */\n",
       "#sk-container-id-1 div.sk-label.fitted:hover label.sk-toggleable__label.fitted {\n",
       "  color: var(--sklearn-color-text);\n",
       "  background-color: var(--sklearn-color-fitted-level-2);\n",
       "}\n",
       "\n",
       "/* Estimator label */\n",
       "\n",
       "#sk-container-id-1 div.sk-label label {\n",
       "  font-family: monospace;\n",
       "  font-weight: bold;\n",
       "  display: inline-block;\n",
       "  line-height: 1.2em;\n",
       "}\n",
       "\n",
       "#sk-container-id-1 div.sk-label-container {\n",
       "  text-align: center;\n",
       "}\n",
       "\n",
       "/* Estimator-specific */\n",
       "#sk-container-id-1 div.sk-estimator {\n",
       "  font-family: monospace;\n",
       "  border: 1px dotted var(--sklearn-color-border-box);\n",
       "  border-radius: 0.25em;\n",
       "  box-sizing: border-box;\n",
       "  margin-bottom: 0.5em;\n",
       "  /* unfitted */\n",
       "  background-color: var(--sklearn-color-unfitted-level-0);\n",
       "}\n",
       "\n",
       "#sk-container-id-1 div.sk-estimator.fitted {\n",
       "  /* fitted */\n",
       "  background-color: var(--sklearn-color-fitted-level-0);\n",
       "}\n",
       "\n",
       "/* on hover */\n",
       "#sk-container-id-1 div.sk-estimator:hover {\n",
       "  /* unfitted */\n",
       "  background-color: var(--sklearn-color-unfitted-level-2);\n",
       "}\n",
       "\n",
       "#sk-container-id-1 div.sk-estimator.fitted:hover {\n",
       "  /* fitted */\n",
       "  background-color: var(--sklearn-color-fitted-level-2);\n",
       "}\n",
       "\n",
       "/* Specification for estimator info (e.g. \"i\" and \"?\") */\n",
       "\n",
       "/* Common style for \"i\" and \"?\" */\n",
       "\n",
       ".sk-estimator-doc-link,\n",
       "a:link.sk-estimator-doc-link,\n",
       "a:visited.sk-estimator-doc-link {\n",
       "  float: right;\n",
       "  font-size: smaller;\n",
       "  line-height: 1em;\n",
       "  font-family: monospace;\n",
       "  background-color: var(--sklearn-color-background);\n",
       "  border-radius: 1em;\n",
       "  height: 1em;\n",
       "  width: 1em;\n",
       "  text-decoration: none !important;\n",
       "  margin-left: 1ex;\n",
       "  /* unfitted */\n",
       "  border: var(--sklearn-color-unfitted-level-1) 1pt solid;\n",
       "  color: var(--sklearn-color-unfitted-level-1);\n",
       "}\n",
       "\n",
       ".sk-estimator-doc-link.fitted,\n",
       "a:link.sk-estimator-doc-link.fitted,\n",
       "a:visited.sk-estimator-doc-link.fitted {\n",
       "  /* fitted */\n",
       "  border: var(--sklearn-color-fitted-level-1) 1pt solid;\n",
       "  color: var(--sklearn-color-fitted-level-1);\n",
       "}\n",
       "\n",
       "/* On hover */\n",
       "div.sk-estimator:hover .sk-estimator-doc-link:hover,\n",
       ".sk-estimator-doc-link:hover,\n",
       "div.sk-label-container:hover .sk-estimator-doc-link:hover,\n",
       ".sk-estimator-doc-link:hover {\n",
       "  /* unfitted */\n",
       "  background-color: var(--sklearn-color-unfitted-level-3);\n",
       "  color: var(--sklearn-color-background);\n",
       "  text-decoration: none;\n",
       "}\n",
       "\n",
       "div.sk-estimator.fitted:hover .sk-estimator-doc-link.fitted:hover,\n",
       ".sk-estimator-doc-link.fitted:hover,\n",
       "div.sk-label-container:hover .sk-estimator-doc-link.fitted:hover,\n",
       ".sk-estimator-doc-link.fitted:hover {\n",
       "  /* fitted */\n",
       "  background-color: var(--sklearn-color-fitted-level-3);\n",
       "  color: var(--sklearn-color-background);\n",
       "  text-decoration: none;\n",
       "}\n",
       "\n",
       "/* Span, style for the box shown on hovering the info icon */\n",
       ".sk-estimator-doc-link span {\n",
       "  display: none;\n",
       "  z-index: 9999;\n",
       "  position: relative;\n",
       "  font-weight: normal;\n",
       "  right: .2ex;\n",
       "  padding: .5ex;\n",
       "  margin: .5ex;\n",
       "  width: min-content;\n",
       "  min-width: 20ex;\n",
       "  max-width: 50ex;\n",
       "  color: var(--sklearn-color-text);\n",
       "  box-shadow: 2pt 2pt 4pt #999;\n",
       "  /* unfitted */\n",
       "  background: var(--sklearn-color-unfitted-level-0);\n",
       "  border: .5pt solid var(--sklearn-color-unfitted-level-3);\n",
       "}\n",
       "\n",
       ".sk-estimator-doc-link.fitted span {\n",
       "  /* fitted */\n",
       "  background: var(--sklearn-color-fitted-level-0);\n",
       "  border: var(--sklearn-color-fitted-level-3);\n",
       "}\n",
       "\n",
       ".sk-estimator-doc-link:hover span {\n",
       "  display: block;\n",
       "}\n",
       "\n",
       "/* \"?\"-specific style due to the `<a>` HTML tag */\n",
       "\n",
       "#sk-container-id-1 a.estimator_doc_link {\n",
       "  float: right;\n",
       "  font-size: 1rem;\n",
       "  line-height: 1em;\n",
       "  font-family: monospace;\n",
       "  background-color: var(--sklearn-color-background);\n",
       "  border-radius: 1rem;\n",
       "  height: 1rem;\n",
       "  width: 1rem;\n",
       "  text-decoration: none;\n",
       "  /* unfitted */\n",
       "  color: var(--sklearn-color-unfitted-level-1);\n",
       "  border: var(--sklearn-color-unfitted-level-1) 1pt solid;\n",
       "}\n",
       "\n",
       "#sk-container-id-1 a.estimator_doc_link.fitted {\n",
       "  /* fitted */\n",
       "  border: var(--sklearn-color-fitted-level-1) 1pt solid;\n",
       "  color: var(--sklearn-color-fitted-level-1);\n",
       "}\n",
       "\n",
       "/* On hover */\n",
       "#sk-container-id-1 a.estimator_doc_link:hover {\n",
       "  /* unfitted */\n",
       "  background-color: var(--sklearn-color-unfitted-level-3);\n",
       "  color: var(--sklearn-color-background);\n",
       "  text-decoration: none;\n",
       "}\n",
       "\n",
       "#sk-container-id-1 a.estimator_doc_link.fitted:hover {\n",
       "  /* fitted */\n",
       "  background-color: var(--sklearn-color-fitted-level-3);\n",
       "}\n",
       "</style><div id=\"sk-container-id-1\" class=\"sk-top-container\"><div class=\"sk-text-repr-fallback\"><pre>GradientBoostingClassifier(max_depth=6, max_features=&#x27;sqrt&#x27;, n_estimators=25,\n",
       "                           random_state=4, subsample=0.9)</pre><b>In a Jupyter environment, please rerun this cell to show the HTML representation or trust the notebook. <br />On GitHub, the HTML representation is unable to render, please try loading this page with nbviewer.org.</b></div><div class=\"sk-container\" hidden><div class=\"sk-item\"><div class=\"sk-estimator fitted sk-toggleable\"><input class=\"sk-toggleable__control sk-hidden--visually\" id=\"sk-estimator-id-1\" type=\"checkbox\" checked><label for=\"sk-estimator-id-1\" class=\"sk-toggleable__label fitted sk-toggleable__label-arrow fitted\">&nbsp;&nbsp;GradientBoostingClassifier<a class=\"sk-estimator-doc-link fitted\" rel=\"noreferrer\" target=\"_blank\" href=\"https://scikit-learn.org/1.5/modules/generated/sklearn.ensemble.GradientBoostingClassifier.html\">?<span>Documentation for GradientBoostingClassifier</span></a><span class=\"sk-estimator-doc-link fitted\">i<span>Fitted</span></span></label><div class=\"sk-toggleable__content fitted\"><pre>GradientBoostingClassifier(max_depth=6, max_features=&#x27;sqrt&#x27;, n_estimators=25,\n",
       "                           random_state=4, subsample=0.9)</pre></div> </div></div></div></div>"
      ],
      "text/plain": [
       "GradientBoostingClassifier(max_depth=6, max_features='sqrt', n_estimators=25,\n",
       "                           random_state=4, subsample=0.9)"
      ]
     },
     "execution_count": 3,
     "metadata": {},
     "output_type": "execute_result"
    }
   ],
   "source": [
    "dataset = pd.read_excel(\"./895_RecordsDescriptorsBoiling.xlsx\")\n",
    "\n",
    "# Encoding\n",
    "dissolve_encoding: dict[str, int] = {\"NO\": 0,\"YES\": 1}\n",
    "sample_type_enconding: dict[str, int] = {\"pellet\": 0, \"waste\": 1, \"fiber\": 2, \"film\": 3, \"powder\": 4}\n",
    "\n",
    "encoding: dict[str, dict[str, int]] = {\n",
    "    \"Dissolution\": dissolve_encoding,\n",
    "    \"Sample type\": sample_type_enconding\n",
    "}\n",
    "df: DataFrame = dataset.replace(encoding, inplace=False)\n",
    "\n",
    "# Normalization\n",
    "# Remove Polymer and Solvent Identifier Columns\n",
    "df = df.drop(columns=[\"Polymer_ID\", \"Solvent_ID\", \"Polymer\", \"Solvent\", \"Solvent boilling (K)\"])\n",
    "\n",
    "# Separate features (X) from target \"Dissolve\" (y)\n",
    "X = df.drop(columns=[\"Dissolution\"])\n",
    "y = df[\"Dissolution\"]\n",
    "\n",
    "# Apply log(1+x) Transformation\n",
    "X_log = np.log1p(X)\n",
    "\n",
    "# Scale to [0,1] with MinMax Normalization\n",
    "min_max_scaler = MinMaxScaler(feature_range=(0, 1), copy=True)\n",
    "X_scaled = min_max_scaler.fit_transform(X_log)\n",
    "\n",
    "# Rebuild Dataset merging normalized features with target\n",
    "df_log_minmax = DataFrame(X_scaled, columns = X.columns, index= X.index)\n",
    "df_log_minmax[\"Dissolution\"] = y\n",
    "\n",
    "# Separate features (X) from target \"Dissolve\" (y)\n",
    "X = df_log_minmax.drop(columns=[\"Dissolution\"])\n",
    "y = df_log_minmax[\"Dissolution\"]\n",
    "\n",
    "# Treinar modelo\n",
    "param_grid = {'learning_rate': 0.1, 'loss': 'log_loss', 'max_depth': 6, 'max_features': 'sqrt', 'min_samples_leaf': 1, 'min_samples_split': 2, 'n_estimators': 25, 'subsample': 0.9}\n",
    "model = GradientBoostingClassifier(**param_grid, random_state = 4)\n",
    "X_train, X_val, y_train, y_val = train_test_split(X, y, test_size=0.30, random_state = 5)\n",
    "model.fit(X_train, y_train)\n"
   ]
  },
  {
   "cell_type": "markdown",
   "id": "d4808c66",
   "metadata": {},
   "source": [
    "#### **Normalize GridSearch Dataset**"
   ]
  },
  {
   "cell_type": "code",
   "execution_count": 4,
   "id": "d3fc2699",
   "metadata": {},
   "outputs": [
    {
     "name": "stderr",
     "output_type": "stream",
     "text": [
      "/tmp/ipykernel_256350/1617335831.py:6: FutureWarning: Downcasting behavior in `replace` is deprecated and will be removed in a future version. To retain the old behavior, explicitly call `result.infer_objects(copy=False)`. To opt-in to the future behavior, set `pd.set_option('future.no_silent_downcasting', True)`\n",
      "  df_out_encoded = df_out.replace(encoding, inplace=False)\n"
     ]
    }
   ],
   "source": [
    "import numpy as np\n",
    "import pandas as pd\n",
    "from sklearn.preprocessing import MinMaxScaler\n",
    "\n",
    "# Enconding \n",
    "df_out_encoded = df_out.replace(encoding, inplace=False)\n",
    "\n",
    "# Keep raw Time and Temp columns for reference\n",
    "df_raw = df_out_encoded[[\"Time (min)\", \"Temperature (K)\"]].copy()\n",
    "df_raw = df_raw.rename(columns={\n",
    "    \"Time (min)\": \"Time (min) Unormalized\",\n",
    "    \"Temperature (K)\": \"Temperature (K) Unormalized\"\n",
    "})\n",
    "\n",
    "drop_cols = [\"Polymer_ID\", \"Solvent_ID\", \"Polymer\", \"Solvent\", \"Source\",'Solvent boilling (K)']\n",
    "df_encoded = df_out_encoded.drop(columns=[c for c in drop_cols if c in df_out_encoded.columns])\n",
    "\n",
    "y = df_encoded[\"Dissolution\"]\n",
    "X = df_encoded.drop(columns=[\"Dissolution\"])\n",
    "\n",
    "X_log = np.log1p(X)\n",
    "\n",
    "# --- Step 7: MinMax scale ---\n",
    "#scaler = MinMaxScaler(feature_range=(0, 1), copy=True)\n",
    "X_scaled = min_max_scaler.transform(X_log)\n",
    "\n",
    "# --- Step 8: Rebuild normalized dataframe with raw values ---\n",
    "df_log_minmax = pd.DataFrame(X_scaled, columns=X.columns, index=X.index)\n",
    "df_log_minmax[\"Dissolution\"] = y\n",
    "df_to_test = pd.concat([df_log_minmax, df_raw, df_out[[\"Source\"]]], axis=1)\n",
    "\n",
    "df_to_test.to_excel(f\"./dataset_gridsearch_normalized_{polymer_name}_{solvent_name}.xlsx\", index = False)"
   ]
  },
  {
   "cell_type": "code",
   "execution_count": 5,
   "id": "633085db",
   "metadata": {},
   "outputs": [
    {
     "name": "stdout",
     "output_type": "stream",
     "text": [
      "Excel file created: ./dataset_gridsearch_scored_PET_Cyrene.xlsx\n"
     ]
    }
   ],
   "source": [
    "import numpy as np\n",
    "\n",
    "# Make a copy so we don't overwrite accidentally\n",
    "df_scored = df_to_test.copy()\n",
    "\n",
    "# Build feature matrix (exclude columns not used by model)\n",
    "X_all = df_scored.drop(columns=[\"Dissolution\", 'Time (min) Unormalized','Temperature (K) Unormalized', 'Source'])\n",
    "\n",
    "# Predict probabilities for all records\n",
    "probs = model.predict_proba(X_all)[:, 1]\n",
    "\n",
    "# Overwrite Dissolution only for GridSearch\n",
    "df_scored[\"Dissolution\"] = df_scored[\"Dissolution\"].astype(float)\n",
    "df_scored.loc[df_scored[\"Source\"] == \"GridSearch\", \"Dissolution\"] = probs[df_scored[\"Source\"] == \"GridSearch\"]\n",
    "\n",
    "# Save to Excel\n",
    "output_file = f\"./dataset_gridsearch_scored_{polymer_name}_{solvent_name}.xlsx\"\n",
    "df_scored.to_excel(output_file, index=False)\n",
    "\n",
    "print(\"Excel file created:\", output_file)\n"
   ]
  },
  {
   "cell_type": "code",
   "execution_count": 6,
   "id": "55d9ae26",
   "metadata": {},
   "outputs": [],
   "source": [
    "#df_scored[\"Dissolution\"] = (df_scored[\"Dissolution\"] >= 0.5).astype(int)"
   ]
  },
  {
   "cell_type": "code",
   "execution_count": 7,
   "id": "6cd0d4d0",
   "metadata": {},
   "outputs": [
    {
     "data": {
      "application/vnd.plotly.v1+json": {
       "config": {
        "plotlyServerURL": "https://plot.ly"
       },
       "data": [
        {
         "marker": {
          "color": "red",
          "opacity": 1,
          "size": 6,
          "symbol": "circle"
         },
         "mode": "markers",
         "name": "Original Dissolution 0",
         "type": "scatter3d",
         "x": {
          "bdata": "AAAAAAAAFEAAAAAAAAAkQAAAAAAAAC5AAAAAAAAANEAAAAAAAAA5QAAAAAAAAD5AAAAAAAAAFEAAAAAAAAAkQAAAAAAAAC5AAAAAAAAANEAAAAAAAAA5QAAAAAAAAD5AAAAAAAAAFEAAAAAAAAAkQAAAAAAAAC5AAAAAAAAANEAAAAAAAAA5QAAAAAAAAD5AAAAAAAAAFEAAAAAAAAAkQAAAAAAAAC5AAAAAAAAANEAAAAAAAAA5QAAAAAAAAD5A",
          "dtype": "f8"
         },
         "y": {
          "bdata": "ZmZmZmaickBmZmZmZqJyQGZmZmZmonJAZmZmZmaickBmZmZmZqJyQGZmZmZmonJAZmZmZmbSdEBmZmZmZtJ0QGZmZmZm0nRAZmZmZmbSdEBmZmZmZtJ0QGZmZmZm0nRAZmZmZmaydkBmZmZmZrJ2QGZmZmZmsnZAZmZmZmaydkBmZmZmZrJ2QGZmZmZmsnZAZmZmZmaSeEBmZmZmZpJ4QGZmZmZmknhAZmZmZmaSeEBmZmZmZpJ4QGZmZmZmknhA",
          "dtype": "f8"
         },
         "z": [
          0,
          0,
          0,
          0,
          0,
          0,
          0,
          0,
          0,
          0,
          0,
          0,
          0,
          0,
          0,
          0,
          0,
          0,
          0,
          0,
          0,
          0,
          0,
          0
         ]
        },
        {
         "marker": {
          "color": "green",
          "opacity": 1,
          "size": 6,
          "symbol": "diamond"
         },
         "mode": "markers",
         "name": "Original Dissolution 1",
         "type": "scatter3d",
         "x": [],
         "y": [],
         "z": []
        },
        {
         "colorscale": [
          [
           0,
           "#440154"
          ],
          [
           0.1111111111111111,
           "#482878"
          ],
          [
           0.2222222222222222,
           "#3e4989"
          ],
          [
           0.3333333333333333,
           "#31688e"
          ],
          [
           0.4444444444444444,
           "#26828e"
          ],
          [
           0.5555555555555556,
           "#1f9e89"
          ],
          [
           0.6666666666666666,
           "#35b779"
          ],
          [
           0.7777777777777778,
           "#6ece58"
          ],
          [
           0.8888888888888888,
           "#b5de2b"
          ],
          [
           1,
           "#fde725"
          ]
         ],
         "name": "GridSearch Probability Surface",
         "opacity": 0.7,
         "showscale": true,
         "type": "surface",
         "x": {
          "bdata": "AAAAAAAA8D8AAAAAAAAYQAAAAAAAACZAAAAAAAAAMEAAAAAAAAA1QAAAAAAAADpAAAAAAAAAP0AAAAAAAABCQAAAAAAAgERAAAAAAAAAR0AAAAAAAIBJQAAAAAAAAExAAAAAAACATkAAAAAAAIBQQAAAAAAAwFFAAAAAAAAAU0AAAAAAAEBUQAAAAAAAgFVAAAAAAADAVkAAAAAAAABYQAAAAAAAQFlAAAAAAACAWkAAAAAAAMBbQAAAAAAAAF1AAAAAAABAXkAAAAAAAIBfQAAAAAAAYGBAAAAAAAAAYUAAAAAAAKBhQAAAAAAAQGJAAAAAAADgYkAAAAAAAIBjQAAAAAAAIGRAAAAAAADAZEAAAAAAAGBlQAAAAAAAAGZAAAAAAACgZkAAAAAAAEBnQAAAAAAA4GdAAAAAAACAaEAAAAAAACBpQAAAAAAAwGlAAAAAAABgakAAAAAAAABrQAAAAAAAoGtAAAAAAABAbEAAAAAAAOBsQAAAAAAAgG1AAAAAAAAgbkAAAAAAAMBuQAAAAAAAYG9AAAAAAAAAcEAAAAAAAFBwQAAAAAAAoHBAAAAAAADwcEAAAAAAAEBxQAAAAAAAkHFAAAAAAADgcUAAAAAAADByQAAAAAAAgHJAAAAAAADQckAAAAAAACBzQAAAAAAAcHNAAAAAAADAc0AAAAAAABB0QAAAAAAAYHRAAAAAAACwdEAAAAAAAAB1QAAAAAAAUHVAAAAAAACgdUAAAAAAAPB1QAAAAAAAQHZAAAAAAACQdkAAAAAAAOB2QAAAAAAAMHdAAAAAAACAd0AAAAAAANB3QAAAAAAAIHhAAAAAAABweEAAAAAAAMB4QAAAAAAAEHlAAAAAAABgeUAAAAAAALB5QAAAAAAAAHpAAAAAAABQekAAAAAAAKB6QAAAAAAA8HpAAAAAAABAe0AAAAAAAJB7QAAAAAAA4HtAAAAAAAAwfEAAAAAAAIB8QAAAAAAA0HxAAAAAAAAgfUAAAAAAAHB9QAAAAAAAwH1A",
          "dtype": "f8"
         },
         "y": {
          "bdata": "ZmZmZmZSckBmZmZmZqJyQGZmZmZm8nJAZmZmZmZCc0BmZmZmZpJzQGZmZmZm4nNAZmZmZmYydEBmZmZmZoJ0QGZmZmZm0nRAZmZmZmYidUBmZmZmZnJ1QGZmZmZmwnVAZmZmZmYSdkBmZmZmZmJ2QGZmZmZmsnZAZmZmZmYCd0BmZmZmZlJ3QGZmZmZmondAZmZmZmbyd0BmZmZmZkJ4QGZmZmZmknhAZmZmZmbieEBmZmZmZjJ5QGZmZmZmgnlAZmZmZmbSeUBmZmZmZiJ6QGZmZmZmcnpAZmZmZmbCekBmZmZmZhJ7QGZmZmZmYntAZmZmZmaye0BmZmZmZgJ8QGZmZmZmUnxAZmZmZmaifEBmZmZmZvJ8QGZmZmZmQn1AZmZmZmaSfUBmZmZmZuJ9QGZmZmZmMn5AZmZmZmaCfkBmZmZmZtJ+QGZmZmZmIn9A",
          "dtype": "f8"
         },
         "z": {
          "bdata": "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",
          "dtype": "f8",
          "shape": "42, 96"
         }
        }
       ],
       "layout": {
        "autosize": true,
        "height": 800,
        "legend": {
         "x": 0,
         "y": 1
        },
        "margin": {
         "b": 0,
         "l": 0,
         "r": 0,
         "t": 40
        },
        "scene": {
         "aspectmode": "cube",
         "xaxis": {
          "range": [
           0,
           476
          ],
          "title": {
           "text": "Time (min)"
          }
         },
         "yaxis": {
          "range": [
           293.15,
           498.15
          ],
          "title": {
           "text": "Temperature (K)"
          }
         },
         "zaxis": {
          "range": [
           0,
           1
          ],
          "title": {
           "text": "Dissolution / Probability"
          }
         }
        },
        "template": {
         "data": {
          "bar": [
           {
            "error_x": {
             "color": "#2a3f5f"
            },
            "error_y": {
             "color": "#2a3f5f"
            },
            "marker": {
             "line": {
              "color": "#E5ECF6",
              "width": 0.5
             },
             "pattern": {
              "fillmode": "overlay",
              "size": 10,
              "solidity": 0.2
             }
            },
            "type": "bar"
           }
          ],
          "barpolar": [
           {
            "marker": {
             "line": {
              "color": "#E5ECF6",
              "width": 0.5
             },
             "pattern": {
              "fillmode": "overlay",
              "size": 10,
              "solidity": 0.2
             }
            },
            "type": "barpolar"
           }
          ],
          "carpet": [
           {
            "aaxis": {
             "endlinecolor": "#2a3f5f",
             "gridcolor": "white",
             "linecolor": "white",
             "minorgridcolor": "white",
             "startlinecolor": "#2a3f5f"
            },
            "baxis": {
             "endlinecolor": "#2a3f5f",
             "gridcolor": "white",
             "linecolor": "white",
             "minorgridcolor": "white",
             "startlinecolor": "#2a3f5f"
            },
            "type": "carpet"
           }
          ],
          "choropleth": [
           {
            "colorbar": {
             "outlinewidth": 0,
             "ticks": ""
            },
            "type": "choropleth"
           }
          ],
          "contour": [
           {
            "colorbar": {
             "outlinewidth": 0,
             "ticks": ""
            },
            "colorscale": [
             [
              0,
              "#0d0887"
             ],
             [
              0.1111111111111111,
              "#46039f"
             ],
             [
              0.2222222222222222,
              "#7201a8"
             ],
             [
              0.3333333333333333,
              "#9c179e"
             ],
             [
              0.4444444444444444,
              "#bd3786"
             ],
             [
              0.5555555555555556,
              "#d8576b"
             ],
             [
              0.6666666666666666,
              "#ed7953"
             ],
             [
              0.7777777777777778,
              "#fb9f3a"
             ],
             [
              0.8888888888888888,
              "#fdca26"
             ],
             [
              1,
              "#f0f921"
             ]
            ],
            "type": "contour"
           }
          ],
          "contourcarpet": [
           {
            "colorbar": {
             "outlinewidth": 0,
             "ticks": ""
            },
            "type": "contourcarpet"
           }
          ],
          "heatmap": [
           {
            "colorbar": {
             "outlinewidth": 0,
             "ticks": ""
            },
            "colorscale": [
             [
              0,
              "#0d0887"
             ],
             [
              0.1111111111111111,
              "#46039f"
             ],
             [
              0.2222222222222222,
              "#7201a8"
             ],
             [
              0.3333333333333333,
              "#9c179e"
             ],
             [
              0.4444444444444444,
              "#bd3786"
             ],
             [
              0.5555555555555556,
              "#d8576b"
             ],
             [
              0.6666666666666666,
              "#ed7953"
             ],
             [
              0.7777777777777778,
              "#fb9f3a"
             ],
             [
              0.8888888888888888,
              "#fdca26"
             ],
             [
              1,
              "#f0f921"
             ]
            ],
            "type": "heatmap"
           }
          ],
          "histogram": [
           {
            "marker": {
             "pattern": {
              "fillmode": "overlay",
              "size": 10,
              "solidity": 0.2
             }
            },
            "type": "histogram"
           }
          ],
          "histogram2d": [
           {
            "colorbar": {
             "outlinewidth": 0,
             "ticks": ""
            },
            "colorscale": [
             [
              0,
              "#0d0887"
             ],
             [
              0.1111111111111111,
              "#46039f"
             ],
             [
              0.2222222222222222,
              "#7201a8"
             ],
             [
              0.3333333333333333,
              "#9c179e"
             ],
             [
              0.4444444444444444,
              "#bd3786"
             ],
             [
              0.5555555555555556,
              "#d8576b"
             ],
             [
              0.6666666666666666,
              "#ed7953"
             ],
             [
              0.7777777777777778,
              "#fb9f3a"
             ],
             [
              0.8888888888888888,
              "#fdca26"
             ],
             [
              1,
              "#f0f921"
             ]
            ],
            "type": "histogram2d"
           }
          ],
          "histogram2dcontour": [
           {
            "colorbar": {
             "outlinewidth": 0,
             "ticks": ""
            },
            "colorscale": [
             [
              0,
              "#0d0887"
             ],
             [
              0.1111111111111111,
              "#46039f"
             ],
             [
              0.2222222222222222,
              "#7201a8"
             ],
             [
              0.3333333333333333,
              "#9c179e"
             ],
             [
              0.4444444444444444,
              "#bd3786"
             ],
             [
              0.5555555555555556,
              "#d8576b"
             ],
             [
              0.6666666666666666,
              "#ed7953"
             ],
             [
              0.7777777777777778,
              "#fb9f3a"
             ],
             [
              0.8888888888888888,
              "#fdca26"
             ],
             [
              1,
              "#f0f921"
             ]
            ],
            "type": "histogram2dcontour"
           }
          ],
          "mesh3d": [
           {
            "colorbar": {
             "outlinewidth": 0,
             "ticks": ""
            },
            "type": "mesh3d"
           }
          ],
          "parcoords": [
           {
            "line": {
             "colorbar": {
              "outlinewidth": 0,
              "ticks": ""
             }
            },
            "type": "parcoords"
           }
          ],
          "pie": [
           {
            "automargin": true,
            "type": "pie"
           }
          ],
          "scatter": [
           {
            "fillpattern": {
             "fillmode": "overlay",
             "size": 10,
             "solidity": 0.2
            },
            "type": "scatter"
           }
          ],
          "scatter3d": [
           {
            "line": {
             "colorbar": {
              "outlinewidth": 0,
              "ticks": ""
             }
            },
            "marker": {
             "colorbar": {
              "outlinewidth": 0,
              "ticks": ""
             }
            },
            "type": "scatter3d"
           }
          ],
          "scattercarpet": [
           {
            "marker": {
             "colorbar": {
              "outlinewidth": 0,
              "ticks": ""
             }
            },
            "type": "scattercarpet"
           }
          ],
          "scattergeo": [
           {
            "marker": {
             "colorbar": {
              "outlinewidth": 0,
              "ticks": ""
             }
            },
            "type": "scattergeo"
           }
          ],
          "scattergl": [
           {
            "marker": {
             "colorbar": {
              "outlinewidth": 0,
              "ticks": ""
             }
            },
            "type": "scattergl"
           }
          ],
          "scattermap": [
           {
            "marker": {
             "colorbar": {
              "outlinewidth": 0,
              "ticks": ""
             }
            },
            "type": "scattermap"
           }
          ],
          "scattermapbox": [
           {
            "marker": {
             "colorbar": {
              "outlinewidth": 0,
              "ticks": ""
             }
            },
            "type": "scattermapbox"
           }
          ],
          "scatterpolar": [
           {
            "marker": {
             "colorbar": {
              "outlinewidth": 0,
              "ticks": ""
             }
            },
            "type": "scatterpolar"
           }
          ],
          "scatterpolargl": [
           {
            "marker": {
             "colorbar": {
              "outlinewidth": 0,
              "ticks": ""
             }
            },
            "type": "scatterpolargl"
           }
          ],
          "scatterternary": [
           {
            "marker": {
             "colorbar": {
              "outlinewidth": 0,
              "ticks": ""
             }
            },
            "type": "scatterternary"
           }
          ],
          "surface": [
           {
            "colorbar": {
             "outlinewidth": 0,
             "ticks": ""
            },
            "colorscale": [
             [
              0,
              "#0d0887"
             ],
             [
              0.1111111111111111,
              "#46039f"
             ],
             [
              0.2222222222222222,
              "#7201a8"
             ],
             [
              0.3333333333333333,
              "#9c179e"
             ],
             [
              0.4444444444444444,
              "#bd3786"
             ],
             [
              0.5555555555555556,
              "#d8576b"
             ],
             [
              0.6666666666666666,
              "#ed7953"
             ],
             [
              0.7777777777777778,
              "#fb9f3a"
             ],
             [
              0.8888888888888888,
              "#fdca26"
             ],
             [
              1,
              "#f0f921"
             ]
            ],
            "type": "surface"
           }
          ],
          "table": [
           {
            "cells": {
             "fill": {
              "color": "#EBF0F8"
             },
             "line": {
              "color": "white"
             }
            },
            "header": {
             "fill": {
              "color": "#C8D4E3"
             },
             "line": {
              "color": "white"
             }
            },
            "type": "table"
           }
          ]
         },
         "layout": {
          "annotationdefaults": {
           "arrowcolor": "#2a3f5f",
           "arrowhead": 0,
           "arrowwidth": 1
          },
          "autotypenumbers": "strict",
          "coloraxis": {
           "colorbar": {
            "outlinewidth": 0,
            "ticks": ""
           }
          },
          "colorscale": {
           "diverging": [
            [
             0,
             "#8e0152"
            ],
            [
             0.1,
             "#c51b7d"
            ],
            [
             0.2,
             "#de77ae"
            ],
            [
             0.3,
             "#f1b6da"
            ],
            [
             0.4,
             "#fde0ef"
            ],
            [
             0.5,
             "#f7f7f7"
            ],
            [
             0.6,
             "#e6f5d0"
            ],
            [
             0.7,
             "#b8e186"
            ],
            [
             0.8,
             "#7fbc41"
            ],
            [
             0.9,
             "#4d9221"
            ],
            [
             1,
             "#276419"
            ]
           ],
           "sequential": [
            [
             0,
             "#0d0887"
            ],
            [
             0.1111111111111111,
             "#46039f"
            ],
            [
             0.2222222222222222,
             "#7201a8"
            ],
            [
             0.3333333333333333,
             "#9c179e"
            ],
            [
             0.4444444444444444,
             "#bd3786"
            ],
            [
             0.5555555555555556,
             "#d8576b"
            ],
            [
             0.6666666666666666,
             "#ed7953"
            ],
            [
             0.7777777777777778,
             "#fb9f3a"
            ],
            [
             0.8888888888888888,
             "#fdca26"
            ],
            [
             1,
             "#f0f921"
            ]
           ],
           "sequentialminus": [
            [
             0,
             "#0d0887"
            ],
            [
             0.1111111111111111,
             "#46039f"
            ],
            [
             0.2222222222222222,
             "#7201a8"
            ],
            [
             0.3333333333333333,
             "#9c179e"
            ],
            [
             0.4444444444444444,
             "#bd3786"
            ],
            [
             0.5555555555555556,
             "#d8576b"
            ],
            [
             0.6666666666666666,
             "#ed7953"
            ],
            [
             0.7777777777777778,
             "#fb9f3a"
            ],
            [
             0.8888888888888888,
             "#fdca26"
            ],
            [
             1,
             "#f0f921"
            ]
           ]
          },
          "colorway": [
           "#636efa",
           "#EF553B",
           "#00cc96",
           "#ab63fa",
           "#FFA15A",
           "#19d3f3",
           "#FF6692",
           "#B6E880",
           "#FF97FF",
           "#FECB52"
          ],
          "font": {
           "color": "#2a3f5f"
          },
          "geo": {
           "bgcolor": "white",
           "lakecolor": "white",
           "landcolor": "#E5ECF6",
           "showlakes": true,
           "showland": true,
           "subunitcolor": "white"
          },
          "hoverlabel": {
           "align": "left"
          },
          "hovermode": "closest",
          "mapbox": {
           "style": "light"
          },
          "paper_bgcolor": "white",
          "plot_bgcolor": "#E5ECF6",
          "polar": {
           "angularaxis": {
            "gridcolor": "white",
            "linecolor": "white",
            "ticks": ""
           },
           "bgcolor": "#E5ECF6",
           "radialaxis": {
            "gridcolor": "white",
            "linecolor": "white",
            "ticks": ""
           }
          },
          "scene": {
           "xaxis": {
            "backgroundcolor": "#E5ECF6",
            "gridcolor": "white",
            "gridwidth": 2,
            "linecolor": "white",
            "showbackground": true,
            "ticks": "",
            "zerolinecolor": "white"
           },
           "yaxis": {
            "backgroundcolor": "#E5ECF6",
            "gridcolor": "white",
            "gridwidth": 2,
            "linecolor": "white",
            "showbackground": true,
            "ticks": "",
            "zerolinecolor": "white"
           },
           "zaxis": {
            "backgroundcolor": "#E5ECF6",
            "gridcolor": "white",
            "gridwidth": 2,
            "linecolor": "white",
            "showbackground": true,
            "ticks": "",
            "zerolinecolor": "white"
           }
          },
          "shapedefaults": {
           "line": {
            "color": "#2a3f5f"
           }
          },
          "ternary": {
           "aaxis": {
            "gridcolor": "white",
            "linecolor": "white",
            "ticks": ""
           },
           "baxis": {
            "gridcolor": "white",
            "linecolor": "white",
            "ticks": ""
           },
           "bgcolor": "#E5ECF6",
           "caxis": {
            "gridcolor": "white",
            "linecolor": "white",
            "ticks": ""
           }
          },
          "title": {
           "x": 0.05
          },
          "xaxis": {
           "automargin": true,
           "gridcolor": "white",
           "linecolor": "white",
           "ticks": "",
           "title": {
            "standoff": 15
           },
           "zerolinecolor": "white",
           "zerolinewidth": 2
          },
          "yaxis": {
           "automargin": true,
           "gridcolor": "white",
           "linecolor": "white",
           "ticks": "",
           "title": {
            "standoff": 15
           },
           "zerolinecolor": "white",
           "zerolinewidth": 2
          }
         }
        },
        "width": 900
       }
      }
     },
     "metadata": {},
     "output_type": "display_data"
    }
   ],
   "source": [
    "import numpy as np\n",
    "import plotly.graph_objs as go\n",
    "\n",
    "fig = go.Figure()\n",
    "\n",
    "# --- Plot Original points (real experimental YES/NO) ---\n",
    "for outcome, color, marker in [(0, \"red\", \"circle\"), (1, \"green\", \"diamond\")]:\n",
    "    subset = df_scored[(df_scored[\"Source\"] == \"Original\") & (df_scored[\"Dissolution\"] == outcome)]\n",
    "    fig.add_trace(go.Scatter3d(\n",
    "        x=subset['Time (min) Unormalized'],             \n",
    "        y=subset['Temperature (K) Unormalized'],\n",
    "        z=[outcome] * len(subset),\n",
    "        mode=\"markers\",\n",
    "        marker=dict(size=6, color=color, symbol=marker, opacity=1),\n",
    "        name=f\"Original Dissolution {outcome}\"\n",
    "    ))\n",
    "\n",
    "# --- Prepare GridSearch data for surface ---\n",
    "grid_subset = df_scored[df_scored[\"Source\"] == \"GridSearch\"]\n",
    "\n",
    "# Create sorted unique axis values\n",
    "time_vals = np.sort(grid_subset['Time (min) Unormalized'].unique())\n",
    "temp_vals = np.sort(grid_subset['Temperature (K) Unormalized'].unique())\n",
    "\n",
    "# Pivot to a 2D matrix (Temperature as rows, Time as columns)\n",
    "Z = grid_subset.pivot_table(\n",
    "    index='Temperature (K) Unormalized',\n",
    "    columns='Time (min) Unormalized',\n",
    "    values='Dissolution'\n",
    ").values\n",
    "\n",
    "# Add probability surface\n",
    "fig.add_trace(go.Surface(\n",
    "    x=time_vals,\n",
    "    y=temp_vals,\n",
    "    z=Z,\n",
    "    colorscale=\"Viridis\",\n",
    "    opacity=0.7,\n",
    "    name=\"GridSearch Probability Surface\",\n",
    "    showscale=True\n",
    "))\n",
    "\n",
    "# --- Layout ---\n",
    "fig.update_layout(\n",
    "    scene=dict(\n",
    "        xaxis=dict(title=\"Time (min)\", range=[0, df_scored['Time (min) Unormalized'].max()]),\n",
    "        yaxis=dict(\n",
    "            title=\"Temperature (K)\",\n",
    "            range=[df_scored['Temperature (K) Unormalized'].min(),\n",
    "                   df_scored['Temperature (K) Unormalized'].max()]\n",
    "        ),\n",
    "        zaxis=dict(title=\"Dissolution / Probability\", range=[0, 1])\n",
    "    ),\n",
    "    legend=dict(x=0, y=1),\n",
    "    margin=dict(l=0, r=0, b=0, t=40),\n",
    "    autosize=True,\n",
    "    height=800, width=900,\n",
    "    scene_aspectmode=\"cube\"\n",
    ")\n",
    "\n",
    "fig.show()\n"
   ]
  }
 ],
 "metadata": {
  "kernelspec": {
   "display_name": "Python 3",
   "language": "python",
   "name": "python3"
  },
  "language_info": {
   "codemirror_mode": {
    "name": "ipython",
    "version": 3
   },
   "file_extension": ".py",
   "mimetype": "text/x-python",
   "name": "python",
   "nbconvert_exporter": "python",
   "pygments_lexer": "ipython3",
   "version": "3.10.12"
  }
 },
 "nbformat": 4,
 "nbformat_minor": 5
}
